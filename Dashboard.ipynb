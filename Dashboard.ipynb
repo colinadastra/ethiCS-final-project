{
 "cells": [
  {
   "cell_type": "markdown",
   "metadata": {
    "editable": true,
    "slideshow": {
     "slide_type": ""
    },
    "tags": []
   },
   "source": [
    "Welcome to the School Achievement Dashboard! Here, we'll look at various factors to educate decision-makers on how best to invest to improve student learning outcomes.\n",
    "\n",
    "*Produced by Colin Howard and Luke Moffit for CSCI 77800 -- EthiCS, Fall 2024*\n",
    "\n",
    "# Part 1. Poverty and Achievement\n",
    "\n",
    "Start by running all of the cells in this notebook. Then use the dropdown below to choose whether to look at city-, state-, or national-level data."
   ]
  },
  {
   "cell_type": "code",
   "execution_count": 16,
   "metadata": {
    "editable": true,
    "slideshow": {
     "slide_type": ""
    },
    "tags": []
   },
   "outputs": [
    {
     "data": {
      "application/vnd.jupyter.widget-view+json": {
       "model_id": "5bd058c334834bfe86c7020f421ce98e",
       "version_major": 2,
       "version_minor": 0
      },
      "text/plain": [
       "interactive(children=(Dropdown(description='Level:', options={'New York City': 'XN', 'New York State': 'NY', '…"
      ]
     },
     "metadata": {},
     "output_type": "display_data"
    }
   ],
   "source": [
    "#region\n",
    "# @title Level selector\n",
    "\n",
    "from ipywidgets import *\n",
    "import pandas as pd\n",
    "import urllib.request as rq\n",
    "import plotly.express as px\n",
    "import plotly.graph_objects as go\n",
    "import IPython.display as display\n",
    "import json\n",
    "\n",
    "levels = {\n",
    "    \"New York City\": \"XN\",\n",
    "    \"New York State\": \"NY\",\n",
    "    \"United States\": \"NT\"\n",
    "}\n",
    "\n",
    "level = \"NT\"\n",
    "\n",
    "def set_level(choice):\n",
    "    level = choice\n",
    "\n",
    "level_selector = Dropdown(options=levels,description=\"Level:\")\n",
    "interact(set_level,choice=level_selector);\n",
    "\n",
    "#endregion"
   ]
  },
  {
   "cell_type": "code",
   "execution_count": 17,
   "metadata": {},
   "outputs": [
    {
     "data": {
      "application/vnd.jupyter.widget-view+json": {
       "model_id": "15faf448d175469b8052c59716a8483b",
       "version_major": 2,
       "version_minor": 0
      },
      "text/plain": [
       "VBox(children=(HBox(children=(Dropdown(description='Subject:', options=('Mathematics', 'Reading', 'Science'), …"
      ]
     },
     "execution_count": 17,
     "metadata": {},
     "output_type": "execute_result"
    }
   ],
   "source": [
    "subjects = [\"Mathematics\",\"Reading\",\"Science\"]\n",
    "\n",
    "subject = \"Mathematics\"\n",
    "\n",
    "subscales = {\n",
    "    \"Mathematics\" : \"MRPCM\",\n",
    "    \"Reading\": \"RRPCM\",\n",
    "    \"Science\": \"SRPUV\"\n",
    "}\n",
    "\n",
    "subscale = \"MRPCM\"\n",
    "\n",
    "years = {\n",
    "    \"Mathematics\": [1990, 1992, 1996, 1996, 2000, 2000, 2003, 2005, 2007, 2009, 2011, 2013, 2015, 2017, 2019, 2022][::-1],\n",
    "    \"Reading\": [1992, 1994, 1998, 1998, 2002, 2003, 2005, 2007, 2009, 2011, 2013, 2015, 2017, 2019, 2022][::-1],\n",
    "    \"Science\": [2009, 2015, 2019][::-1]\n",
    "}\n",
    "\n",
    "year = 2019\n",
    "\n",
    "grades = {\n",
    "    \"Mathematics\": [4,8],\n",
    "    \"Reading\": [4,8,12],\n",
    "    \"Science\": [4,8,12]\n",
    "}\n",
    "\n",
    "grade = 8\n",
    "\n",
    "variable = \"SLUNCH3\"\n",
    "\n",
    "stattype = \"MN:MN,PC:P1,PC:P2,PC:P5,PC:P7,PC:P9\"\n",
    "\n",
    "stattypes = {\n",
    "    \"MN:MN\": \"Mean\",\n",
    "    \"PC:P1\": \"10th Percentile\",\n",
    "    \"PC:P2\": \"25th Percentile\",\n",
    "    \"PC:P5\": \"50th Percentile\",\n",
    "    \"PC:P7\": \"75th Percentile\",\n",
    "    \"PC:P9\": \"90th Percentile\"\n",
    "}\n",
    "\n",
    "marker_colors = {\n",
    "    \"MN:MN\": px.colors.qualitative.Prism[10],\n",
    "    \"PC:P1\": px.colors.qualitative.Prism[7],\n",
    "    \"PC:P2\": px.colors.qualitative.Prism[5],\n",
    "    \"PC:P5\": px.colors.qualitative.Prism[4],\n",
    "    \"PC:P7\": px.colors.qualitative.Prism[1],\n",
    "    \"PC:P9\": px.colors.qualitative.Prism[0]\n",
    "}\n",
    "\n",
    "def build_frame(subject=\"Mathematics\",year=2019):\n",
    "    year = year\n",
    "    subject = subject\n",
    "    subscale = subscales[subject]\n",
    "    response = rq.urlopen(f\"https://www.nationsreportcard.gov/Dataservice/GetAdhocData.aspx?type=data\"\n",
    "                        f\"&subject={subject.lower()}\"\n",
    "                        f\"&grade={grade}\"\n",
    "                        f\"&subscale={subscale}\"\n",
    "                        f\"&variable={variable}\"\n",
    "                        f\"&jurisdiction={level}\"\n",
    "                        f\"&stattype={stattype}\"\n",
    "                        f\"&year={year}\")\n",
    "    response_string = response.read().decode('utf-8')\n",
    "    try:\n",
    "        df = pd.DataFrame(json.loads(response_string)['result'])\n",
    "        return df\n",
    "    except:\n",
    "        return response_string\n",
    "\n",
    "def build_figure(df):\n",
    "    traces = []\n",
    "    for stat in stattypes.keys():\n",
    "        trace = go.Bar(\n",
    "            x=df.loc[df['stattype']==stat][\"varValueLabel\"], \n",
    "            y=df.loc[df['stattype']==stat][\"value\"], \n",
    "            name=stattypes[stat], \n",
    "            marker={\"color\": marker_colors[stat]}\n",
    "        )\n",
    "        traces.append(trace)\n",
    "    return traces\n",
    "\n",
    "df = build_frame(subject,year)\n",
    "fw = go.FigureWidget(data=build_figure(df),layout=go.Layout(barmode=\"group\",title=f\"{grade}th Grade {subject} NAEP Scores and Federal Lunch Program Eligibility, {year}, {level}\"))\n",
    "\n",
    "def update_figure(change):\n",
    "    subject = subject_widget.value\n",
    "    year = year_widget.value\n",
    "    df = build_frame(subject,year)\n",
    "    with fw.batch_update():\n",
    "        for i, stat in enumerate(stattypes):\n",
    "            fw.data[i].x=df.loc[df['stattype']==stat]['varValueLabel']\n",
    "            fw.data[i].y=df.loc[df['stattype']==stat]['value']\n",
    "        fw.update_layout(title=f\"{grade}th Grade {subject} NAEP Scores and Federal Lunch Program Eligibility, {year}, {level}\")\n",
    "    \n",
    "subject_widget = Dropdown(options=subjects,description=\"Subject:\")\n",
    "year_widget = Dropdown(options=years['Mathematics'],description=\"Year:\")\n",
    "\n",
    "def update_years(*args):\n",
    "    year_widget.options = years[subject_widget.value]\n",
    "subject_widget.observe(update_years, 'value')\n",
    "\n",
    "subject_widget.observe(update_figure, 'value')\n",
    "year_widget.observe(update_figure, 'value')\n",
    "\n",
    "container = VBox([HBox([subject_widget,year_widget]),fw])\n",
    "container\n",
    "\n",
    "# interact(update_figure,subject=subject_widget,year=year_widget);"
   ]
  },
  {
   "cell_type": "code",
   "execution_count": null,
   "metadata": {},
   "outputs": [],
   "source": []
  },
  {
   "cell_type": "markdown",
   "metadata": {},
   "source": [
    "# Part 2. Poverty and Funding"
   ]
  },
  {
   "cell_type": "markdown",
   "metadata": {},
   "source": [
    "# Part 3. Factors Affecting Achievement"
   ]
  }
 ],
 "metadata": {
  "kernelspec": {
   "display_name": "Python 3 (ipykernel)",
   "language": "python",
   "name": "python3"
  },
  "language_info": {
   "codemirror_mode": {
    "name": "ipython",
    "version": 3
   },
   "file_extension": ".py",
   "mimetype": "text/x-python",
   "name": "python",
   "nbconvert_exporter": "python",
   "pygments_lexer": "ipython3",
   "version": "3.11.9"
  }
 },
 "nbformat": 4,
 "nbformat_minor": 4
}
