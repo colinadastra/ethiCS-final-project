{
 "cells": [
  {
   "cell_type": "markdown",
   "metadata": {},
   "source": [
    "Welcome to the School Achievement Dashboard! Here, we'll look at various factors to educate decision-makers on how best to invest to improve student learning outcomes.\n",
    "\n",
    "*Produced by Colin Howard and Luke Moffit for CSCI 77800 -- EthiCS, Fall 2024*\n",
    "\n",
    "# Part 1. Poverty and Achievement\n",
    "\n",
    "Start by running all of the cells in this notebook. Then use the dropdown below to choose whether to look at city-, state-, or national-level data."
   ]
  },
  {
   "cell_type": "code",
   "execution_count": 8,
   "metadata": {
    "tags": [
     "hide-input"
    ]
   },
   "outputs": [
    {
     "data": {
      "application/vnd.jupyter.widget-view+json": {
       "model_id": "07b099be477e4569b3ba3a7dbf080579",
       "version_major": 2,
       "version_minor": 0
      },
      "text/plain": [
       "interactive(children=(Dropdown(description='Level:', options={'City (New York City)': 'XN', 'State (New York S…"
      ]
     },
     "metadata": {},
     "output_type": "display_data"
    }
   ],
   "source": [
    "from ipywidgets import *\n",
    "\n",
    "levels = {\n",
    "    \"City (New York City)\": \"XN\",\n",
    "    \"State (New York State)\": \"NY\",\n",
    "    \"Nation (United States)\": \"NT\"\n",
    "}\n",
    "\n",
    "level = \"NT\"\n",
    "\n",
    "def set_level(choice):\n",
    "    level = choice\n",
    "    print(level)\n",
    "\n",
    "level_selector = Dropdown(options=levels,description=\"Level:\")\n",
    "interact(set_level,choice=level_selector);"
   ]
  }
 ],
 "metadata": {
  "kernelspec": {
   "display_name": "Python 3",
   "language": "python",
   "name": "python3"
  },
  "language_info": {
   "codemirror_mode": {
    "name": "ipython",
    "version": 3
   },
   "file_extension": ".py",
   "mimetype": "text/x-python",
   "name": "python",
   "nbconvert_exporter": "python",
   "pygments_lexer": "ipython3",
   "version": "3.11.9"
  }
 },
 "nbformat": 4,
 "nbformat_minor": 2
}
