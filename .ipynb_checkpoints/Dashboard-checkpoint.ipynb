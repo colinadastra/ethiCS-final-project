{
 "cells": [
  {
   "cell_type": "markdown",
   "metadata": {
    "editable": true,
    "slideshow": {
     "slide_type": ""
    },
    "tags": []
   },
   "source": [
    "Welcome to the School Achievement Dashboard! Here, we'll look at various factors to educate decision-makers on how best to invest to improve student learning outcomes.\n",
    "\n",
    "*Produced by Colin Howard and Luke Moffit for CSCI 77800 -- EthiCS, Fall 2024*\n",
    "\n",
    "# Part 1. Poverty and Achievement\n",
    "\n",
    "Start by running all of the cells in this notebook. Then use the dropdown below to choose whether to look at city-, state-, or national-level data."
   ]
  },
  {
   "cell_type": "code",
   "execution_count": 7,
   "metadata": {
    "editable": true,
    "slideshow": {
     "slide_type": ""
    },
    "tags": []
   },
   "outputs": [
    {
     "data": {
      "application/vnd.jupyter.widget-view+json": {
       "model_id": "9eef5fb45f344dc1953b3e832808b61e",
       "version_major": 2,
       "version_minor": 0
      },
      "text/plain": [
       "interactive(children=(Dropdown(description='Level:', options={'City (New York City)': 'XN', 'State (New York S…"
      ]
     },
     "metadata": {},
     "output_type": "display_data"
    }
   ],
   "source": [
    "#region\n",
    "# @title Level selector\n",
    "\n",
    "from ipywidgets import *\n",
    "import pandas as pd\n",
    "import urllib.request as rq\n",
    "import plotly.express as px\n",
    "import plotly.graph_objects as go\n",
    "import IPython.display as display\n",
    "import json\n",
    "\n",
    "levels = {\n",
    "    \"City (New York City)\": \"XN\",\n",
    "    \"State (New York State)\": \"NY\",\n",
    "    \"Nation (United States)\": \"NT\"\n",
    "}\n",
    "\n",
    "level = \"NT\"\n",
    "\n",
    "def set_level(choice):\n",
    "    level = choice\n",
    "\n",
    "level_selector = Dropdown(options=levels,description=\"Level:\")\n",
    "interact(set_level,choice=level_selector);\n",
    "\n",
    "#endregion"
   ]
  },
  {
   "cell_type": "code",
   "execution_count": 18,
   "metadata": {},
   "outputs": [
    {
     "name": "stdout",
     "output_type": "stream",
     "text": [
      "NT\n"
     ]
    },
    {
     "data": {
      "application/vnd.jupyter.widget-view+json": {
       "model_id": "10d8526be434432eb9af0b2e7005fb82",
       "version_major": 2,
       "version_minor": 0
      },
      "text/plain": [
       "VBox(children=(HBox(children=(Dropdown(description='Subject:', options=('Mathematics', 'Reading', 'Science'), …"
      ]
     },
     "execution_count": 18,
     "metadata": {},
     "output_type": "execute_result"
    }
   ],
   "source": [
    "subjects = [\"Mathematics\",\"Reading\",\"Science\"]\n",
    "\n",
    "subject = \"Mathematics\"\n",
    "\n",
    "subscales = {\n",
    "    \"Mathematics\" : \"MRPCM\",\n",
    "    \"Reading\": \"RRPCM\",\n",
    "    \"Science\": \"SRPUV\"\n",
    "}\n",
    "\n",
    "subscale = \"MRPCM\"\n",
    "\n",
    "years = {\n",
    "    \"Mathematics\": [1990, 1992, 1996, 1996, 2000, 2000, 2003, 2005, 2007, 2009, 2011, 2013, 2015, 2017, 2019, 2022][::-1],\n",
    "    \"Reading\": [1992, 1994, 1998, 1998, 2002, 2003, 2005, 2007, 2009, 2011, 2013, 2015, 2017, 2019, 2022][::-1],\n",
    "    \"Science\": [2009, 2015, 2019][::-1]\n",
    "}\n",
    "\n",
    "year = 2019\n",
    "\n",
    "grades = {\n",
    "    \"Mathematics\": [4,8],\n",
    "    \"Reading\": [4,8,12],\n",
    "    \"Science\": [4,8,12]\n",
    "}\n",
    "\n",
    "grade = 8\n",
    "\n",
    "variable = \"SLUNCH3\"\n",
    "\n",
    "stattype = \"MN:MN,PC:P1,PC:P2,PC:P5,PC:P7,PC:P9\"\n",
    "\n",
    "stattypes = stattype.split(',')\n",
    "\n",
    "def build_frame(subject=\"Mathematics\",year=2019):\n",
    "    year = year\n",
    "    subject = subject\n",
    "    subscale = subscales[subject]\n",
    "    print(level)\n",
    "    response = rq.urlopen(f\"https://www.nationsreportcard.gov/Dataservice/GetAdhocData.aspx?type=data\"\n",
    "                        f\"&subject={subject.lower()}\"\n",
    "                        f\"&grade={grade}\"\n",
    "                        f\"&subscale={subscale}\"\n",
    "                        f\"&variable={variable}\"\n",
    "                        f\"&jurisdiction={level}\"\n",
    "                        f\"&stattype={stattype}\"\n",
    "                        f\"&year={year}\")\n",
    "    response_string = response.read().decode('utf-8')\n",
    "    try:\n",
    "        df = pd.DataFrame(json.loads(response_string)['result'])\n",
    "        return df\n",
    "    except:\n",
    "        return response_string\n",
    "    \n",
    "df = build_frame(subject,year)\n",
    "fig = go.Bar(x=df.loc[df['stattype']=='MN:MN'][\"varValueLabel\"], y=df.loc[df['stattype']=='MN:MN'][\"value\"])\n",
    "fw = go.FigureWidget(data=[fig],layout=go.Layout(barmode=\"group\"))\n",
    "\n",
    "def build_figure(df):\n",
    "    \n",
    "\n",
    "def update_figure(change):\n",
    "    subject = subject_widget.value\n",
    "    year = year_widget.value\n",
    "    df = build_frame(subject,year)\n",
    "    with fw.batch_update():\n",
    "        fw.data[0].x=df['varValueLabel']\n",
    "        fw.data[0].y=df['value']\n",
    "    \n",
    "subject_widget = Dropdown(options=subjects,description=\"Subject:\")\n",
    "year_widget = Dropdown(options=years['Mathematics'],description=\"Year:\")\n",
    "\n",
    "def update_years(*args):\n",
    "    year_widget.options = years[subject_widget.value]\n",
    "subject_widget.observe(update_years, 'value')\n",
    "\n",
    "subject_widget.observe(update_figure, 'value')\n",
    "year_widget.observe(update_figure, 'value')\n",
    "\n",
    "container = VBox([HBox([subject_widget,year_widget]),fw])\n",
    "container\n",
    "\n",
    "# interact(update_figure,subject=subject_widget,year=year_widget);"
   ]
  },
  {
   "cell_type": "markdown",
   "metadata": {},
   "source": [
    "# Part 2. Poverty and Funding"
   ]
  },
  {
   "cell_type": "markdown",
   "metadata": {},
   "source": [
    "# Part 3. Factors Affecting Achievement"
   ]
  }
 ],
 "metadata": {
  "kernelspec": {
   "display_name": "Python 3 (ipykernel)",
   "language": "python",
   "name": "python3"
  },
  "language_info": {
   "codemirror_mode": {
    "name": "ipython",
    "version": 3
   },
   "file_extension": ".py",
   "mimetype": "text/x-python",
   "name": "python",
   "nbconvert_exporter": "python",
   "pygments_lexer": "ipython3",
   "version": "3.11.9"
  }
 },
 "nbformat": 4,
 "nbformat_minor": 4
}
